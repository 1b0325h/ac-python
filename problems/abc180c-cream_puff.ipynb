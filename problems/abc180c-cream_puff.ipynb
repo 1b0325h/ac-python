{
 "cells": [
  {
   "cell_type": "markdown",
   "metadata": {},
   "source": [
    "# [ABC180C - Cream puff](https://atcoder.jp/contests/abc180/tasks/abc180_c)\n",
    "\n",
    "## Problem Statement\n",
    "\n",
    "We have $N$ cream puffs.  \n",
    "  \n",
    "Find all possible number of people to which we can evenly distribute the cream puffs without cutting them.\n",
    "\n",
    "## Constraints\n",
    "\n",
    "- $1 \\leq N \\leq 10^{12}$\n",
    "- $N$ is an integer.\n",
    "\n",
    "## Output\n",
    "\n",
    "Print the numbers of people in ascending order, each in its own line.\n",
    "\n",
    "---\n",
    "\n",
    "## Examples\n",
    "\n",
    "```\n",
    "[Sample1]\n",
    "    Input: 6\n",
    "   Output: 1\n",
    "           2\n",
    "           3\n",
    "           6\n",
    "\n",
    "[Sample2]\n",
    "    Input: 720\n",
    "   Output: 1\n",
    "           2\n",
    "           3\n",
    "           4\n",
    "           5\n",
    "           6\n",
    "           8\n",
    "           9\n",
    "           10\n",
    "           12\n",
    "           15\n",
    "           16\n",
    "           18\n",
    "           20\n",
    "           24\n",
    "           30\n",
    "           36\n",
    "           40\n",
    "           45\n",
    "           48\n",
    "           60\n",
    "           72\n",
    "           80\n",
    "           90\n",
    "           120\n",
    "           144\n",
    "           180\n",
    "           240\n",
    "           360\n",
    "           720\n",
    "\n",
    "[Sample3]\n",
    "    Input: 1000000007\n",
    "   Output: 1\n",
    "           1000000007\n",
    "```\n",
    "\n",
    "---\n",
    "\n",
    "## [Solution](https://atcoder.jp/contests/abc180/submissions/22852332)"
   ]
  },
  {
   "cell_type": "code",
   "execution_count": 1,
   "metadata": {
    "tags": []
   },
   "outputs": [
    {
     "output_type": "stream",
     "name": "stdout",
     "text": [
      "1\n2\n3\n6\n"
     ]
    }
   ],
   "source": [
    "def gcd(x, y):\n",
    "   while y:\n",
    "      x, y = y, x % y\n",
    "   return x\n",
    " \n",
    " \n",
    "N = int(input())\n",
    " \n",
    "answer = []\n",
    "for i in range(1, int(N**0.5 + 1)):\n",
    "   if gcd(N, i) == i:\n",
    "      answer.append(i)\n",
    "      answer.append(N // i)\n",
    " \n",
    "for i in sorted(set(answer)):\n",
    "   print(i)"
   ]
  },
  {
   "cell_type": "code",
   "execution_count": null,
   "metadata": {},
   "outputs": [],
   "source": []
  }
 ],
 "metadata": {
  "language_info": {
   "codemirror_mode": {
    "name": "ipython",
    "version": 3
   },
   "file_extension": ".py",
   "mimetype": "text/x-python",
   "name": "python",
   "nbconvert_exporter": "python",
   "pygments_lexer": "ipython3",
   "version": "3.8.6-final"
  },
  "orig_nbformat": 2,
  "kernelspec": {
   "name": "python3",
   "display_name": "Python 3",
   "language": "python"
  }
 },
 "nbformat": 4,
 "nbformat_minor": 2
}