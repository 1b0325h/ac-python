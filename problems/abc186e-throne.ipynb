{
 "cells": [
  {
   "cell_type": "markdown",
   "metadata": {},
   "source": [
    "# [ABC186E - Throne](https://atcoder.jp/contests/abc186/tasks/abc186_e)\n",
    "\n",
    "## Problem Statement\n",
    "\n",
    "We have $N$ chairs arranged in a circle, one of which is a throne.  \n",
    "  \n",
    "Takahashi is initially sitting on the chair that is $S$ chairs away from the throne in the clockwise direction. Now, he will repeat the move below.  \n",
    "  \n",
    "Move: Go to the chair that is $K$ chairs away from the chair he is currently sitting on in the clockwise direction.  \n",
    "  \n",
    "After how many moves will he be sitting on the throne for the first time? If he is never going to sit on it, report `-1` instead.  \n",
    "  \n",
    "You are asked to solve $T$ test cases.\n",
    "\n",
    "## Constraints\n",
    "\n",
    "- $1 \\leq T \\leq 100$\n",
    "- $2 \\leq N \\leq 10^9$\n",
    "- $1 \\leq S \\leq N$\n",
    "- $1 \\leq K \\leq 10^9\n",
    "\n",
    "## Output\n",
    "\n",
    "For each test case, print the answer in its own line.\n",
    "\n",
    "---\n",
    "\n",
    "## Examples\n",
    "\n",
    "```\n",
    "[Sample1]\n",
    "    Input: 4\n",
    "           10 4 3\n",
    "           1000 11 2\n",
    "           998244353 897581057 595591169\n",
    "           10000 6 14\n",
    "   Output: 2\n",
    "           -1\n",
    "           249561088\n",
    "           3571\n",
    "```\n",
    "\n",
    "---\n",
    "\n",
    "## [Solution](https://atcoder.jp/contests/abc186/submissions/24222554)"
   ]
  },
  {
   "cell_type": "code",
   "execution_count": 1,
   "metadata": {
    "tags": []
   },
   "outputs": [
    {
     "output_type": "stream",
     "name": "stdout",
     "text": [
      "2\n",
      "-1\n",
      "249561088\n",
      "3571\n"
     ]
    }
   ],
   "source": [
    "def crt(rem: list, mod: list) -> int:\n",
    "   def _egcd(a, b):\n",
    "      if not a:\n",
    "         return (b, 0, 1)\n",
    "      else:\n",
    "         d, y, x = _egcd(b % a, a)\n",
    "         return (d, x - b//a * y, y)\n",
    "\n",
    "   r, m = 0, 1\n",
    "   for i in range(len(rem)):\n",
    "      x, y, _ = _egcd(m, mod[i])\n",
    "      if (a := rem[i]-r) % x:\n",
    "         return -1\n",
    "      r += m * (a // x*y % (mod[i]//x))\n",
    "      m *= mod[i]//x\n",
    "\n",
    "   return r % m\n",
    "\n",
    "\n",
    "for _ in range(int(input())):\n",
    "   N, S, K = map(int, input().split())\n",
    "   print(crt([0, N-S], [K, N]) // K)"
   ]
  },
  {
   "cell_type": "code",
   "execution_count": null,
   "metadata": {},
   "outputs": [],
   "source": []
  }
 ],
 "metadata": {
  "language_info": {
   "codemirror_mode": {
    "name": "ipython",
    "version": 3
   },
   "file_extension": ".py",
   "mimetype": "text/x-python",
   "name": "python",
   "nbconvert_exporter": "python",
   "pygments_lexer": "ipython3",
   "version": "3.8.6-final"
  },
  "orig_nbformat": 2,
  "kernelspec": {
   "name": "python3",
   "display_name": "Python 3.8.6 64-bit",
   "metadata": {
    "interpreter": {
     "hash": "33b9155f6fe620f02ad32cae37470d193ecdf9cc5f13dee15b7e34c18c21ac6c"
    }
   }
  }
 },
 "nbformat": 4,
 "nbformat_minor": 2
}