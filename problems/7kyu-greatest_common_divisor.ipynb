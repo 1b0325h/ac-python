{
 "cells": [
  {
   "cell_type": "markdown",
   "metadata": {},
   "source": [
    "# [7kyu - Greatest common divisor](https://www.codewars.com/kata/5500d54c2ebe0a8e8a0003fd)\n",
    "\n",
    "Find the greatest common divisor of two positive integers. The integers can be large, so you need to find a clever solution.  \n",
    "  \n",
    "The inputs $x$ and $y$ are always greater or equal to 1, so the greatest common divisor will always be an integer that is also greater or equal to 1.\n",
    "\n",
    "---\n",
    "\n",
    "## Examples\n",
    "\n",
    "```\n",
    "mygcd(30, 12) -> 6\n",
    "mygcd(8, 9) -> 1\n",
    "mygcd(1, 1) -> 1\n",
    "```\n",
    "\n",
    "---\n",
    "\n",
    "## [Solution](https://www.codewars.com/kata/reviews/5502197eb3216ec63c000083/groups/60b08b21d4810c0001f3ed16)"
   ]
  },
  {
   "cell_type": "code",
   "execution_count": 1,
   "metadata": {
    "tags": []
   },
   "outputs": [
    {
     "output_type": "execute_result",
     "data": {
      "text/plain": "6"
     },
     "metadata": {},
     "execution_count": 1
    }
   ],
   "source": [
    "def gcd(x, y):\n",
    "   if not y:\n",
    "      return x\n",
    "   while y:\n",
    "      x, y = y, x % y\n",
    "   return x\n",
    "\n",
    "\n",
    "def mygcd(x, y):\n",
    "   return gcd(x, y)\n",
    "\n",
    "\n",
    "mygcd(30, 12)"
   ]
  },
  {
   "cell_type": "code",
   "execution_count": null,
   "metadata": {},
   "outputs": [],
   "source": []
  }
 ],
 "metadata": {
  "language_info": {
   "codemirror_mode": {
    "name": "ipython",
    "version": 3
   },
   "file_extension": ".py",
   "mimetype": "text/x-python",
   "name": "python",
   "nbconvert_exporter": "python",
   "pygments_lexer": "ipython3",
   "version": "3.8.2-final"
  },
  "orig_nbformat": 2,
  "kernelspec": {
   "name": "python38264bitaf2d0123063b462da592b33d3d13a1e8",
   "display_name": "Python 3.8.2 64-bit"
  }
 },
 "nbformat": 4,
 "nbformat_minor": 2
}