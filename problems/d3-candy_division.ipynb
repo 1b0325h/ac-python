{
 "cells": [
  {
   "cell_type": "markdown",
   "metadata": {},
   "source": [
    "# [Difficulty: 3.2 - Candy Division](https://open.kattis.com/problems/candydivision)\n",
    "\n",
    "Benny has just found out that he has $N$ candies in his pocket. He is always happy to share candies with his friends, because then he doesn’t have to eat them alone and get fat. There is one problem, though. He cannot invite any number of friends, since it would be impossible to divide candies evenly among people.  \n",
    "  \n",
    "Given $N$, how many people can Benny invite to eat candies, so that everybody gets the same number of candies and all candies will be eaten?\n",
    "\n",
    "## Input\n",
    "The input contains one line with one integer $N(2 \\leq N \\leq 10^{12})$, denoting the number of candies in Benny’s pocket.\n",
    "\n",
    "## Output\n",
    "\n",
    "Output one line with all possible number of friends Benny can invite. Output them in ascending order and separate by spaces.\n",
    "\n",
    "---\n",
    "\n",
    "## Examples\n",
    "\n",
    "```\n",
    "[Sample1]\n",
    "    Input: 30\n",
    "   Output: 0 1 2 4 5 9 14 29\n",
    "```\n",
    "\n",
    "---\n",
    "\n",
    "## [Solution](https://open.kattis.com/submissions/7352998)"
   ]
  },
  {
   "cell_type": "code",
   "execution_count": 1,
   "metadata": {
    "tags": []
   },
   "outputs": [
    {
     "output_type": "stream",
     "name": "stdout",
     "text": "0 1 2 4 5 9 14 29\n"
    }
   ],
   "source": [
    "def divisors(n) -> list:\n",
    "   x = set()\n",
    "   i = 1\n",
    "   while i**2 <= n:\n",
    "      if not n % i:\n",
    "         x.add(i)\n",
    "         x.add(n // i)\n",
    "      i += 1\n",
    "   return sorted(x)\n",
    "\n",
    "\n",
    "N = int(input())\n",
    "\n",
    "print(\" \".join(str(i-1) for i in divisors(N)))"
   ]
  },
  {
   "cell_type": "code",
   "execution_count": null,
   "metadata": {},
   "outputs": [],
   "source": []
  }
 ],
 "metadata": {
  "language_info": {
   "codemirror_mode": {
    "name": "ipython",
    "version": 3
   },
   "file_extension": ".py",
   "mimetype": "text/x-python",
   "name": "python",
   "nbconvert_exporter": "python",
   "pygments_lexer": "ipython3",
   "version": "3.8.2-final"
  },
  "orig_nbformat": 2,
  "kernelspec": {
   "name": "python38264bitaf2d0123063b462da592b33d3d13a1e8",
   "display_name": "Python 3.8.2 64-bit"
  }
 },
 "nbformat": 4,
 "nbformat_minor": 2
}