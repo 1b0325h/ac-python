{
 "cells": [
  {
   "cell_type": "markdown",
   "metadata": {},
   "source": [
    "# [ABC183D - Water Heater](https://atcoder.jp/contests/abc183/tasks/abc183_d)\n",
    "\n",
    "## Problem Statement\n",
    "\n",
    "We have a water heater, which supplies $W$ liters of hot water per minute.  \n",
    "  \n",
    "There are $N$ people. The $i$-th person plans to use $P_i$ liters of hot water per minute boiled by the heater from Time $S_i$ to $T_i$ (excluding at Time $T_i$ exactly). As hot water gets cold fast, it cannot be stored.  \n",
    "  \n",
    "Is it possible to supply hot water to the people according to their plans?\n",
    "\n",
    "## Constraints\n",
    "\n",
    "- $1 \\leq N \\leq 2 \\times 10^5$\n",
    "- $0 \\leq S_i \\leq T_i \\leq 2 \\times 10^5$\n",
    "- $1 \\leq W, P_i \\leq 10^9$\n",
    "- All values in input are integers.\n",
    "\n",
    "## Output\n",
    "\n",
    "If it is possible to supply hot water to the people according to their plans, print `Yes`; otherwise, print `No`.\n",
    "\n",
    "---\n",
    "\n",
    "## Examples\n",
    "\n",
    "```\n",
    "[Sample1]\n",
    "    Input: 4 10\n",
    "           1 3 5\n",
    "           2 4 4\n",
    "           3 10 6\n",
    "           2 4 1\n",
    "   Output: No\n",
    "\n",
    "[Sample2]\n",
    "    Input: 4 10\n",
    "           1 3 5\n",
    "           2 4 4\n",
    "           3 10 6\n",
    "           2 3 1\n",
    "   Output: Yes\n",
    "\n",
    "[Sample3]\n",
    "    Input: 6 1000000000\n",
    "           0 200000 999999999\n",
    "           2 20 1\n",
    "           20 200 1\n",
    "           200 2000 1\n",
    "           2000 20000 1\n",
    "           20000 200000 1\n",
    "   Output: Yes\n",
    "```\n",
    "\n",
    "---\n",
    "\n",
    "## [Solution](https://atcoder.jp/contests/abc183/submissions/22841534)"
   ]
  },
  {
   "cell_type": "code",
   "execution_count": 2,
   "metadata": {
    "tags": []
   },
   "outputs": [
    {
     "output_type": "stream",
     "name": "stdout",
     "text": "Yes\n"
    }
   ],
   "source": [
    "def imos_1(start: list, end: list, add: list) -> list:\n",
    "   table = [0] * (x := max(end)+2)\n",
    "\n",
    "   for i in range(len(start)):\n",
    "      table[start[i]] += add[i]\n",
    "      table[end[i]] -= add[i]\n",
    "\n",
    "   for i in range(1, x):\n",
    "      table[i] += table[i-1]\n",
    "\n",
    "   return table\n",
    "\n",
    "\n",
    "N, W = map(int, input().split())\n",
    "STP = [map(int, input().split()) for _ in range(N)]\n",
    "S, T, P = [list(_) for _ in zip(*STP)]\n",
    "\n",
    "print(\"Yes\" if max(imos_1(S, T, P)) <= W else \"No\")"
   ]
  },
  {
   "cell_type": "code",
   "execution_count": null,
   "metadata": {},
   "outputs": [],
   "source": []
  }
 ],
 "metadata": {
  "language_info": {
   "codemirror_mode": {
    "name": "ipython",
    "version": 3
   },
   "file_extension": ".py",
   "mimetype": "text/x-python",
   "name": "python",
   "nbconvert_exporter": "python",
   "pygments_lexer": "ipython3",
   "version": "3.8.2-final"
  },
  "orig_nbformat": 2,
  "kernelspec": {
   "name": "python38264bitaf2d0123063b462da592b33d3d13a1e8",
   "display_name": "Python 3.8.2 64-bit"
  }
 },
 "nbformat": 4,
 "nbformat_minor": 2
}