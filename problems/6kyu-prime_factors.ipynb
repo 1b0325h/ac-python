{
 "cells": [
  {
   "cell_type": "markdown",
   "metadata": {},
   "source": [
    "# [6kyu - Prime Factors](https://www.codewars.com/kata/542f3d5fd002f86efc00081a)\n",
    "\n",
    "## Prime Factors\n",
    "\n",
    "*Inspired by one of Uncle Bob's TDD Kata*  \n",
    "  \n",
    "Write a function that generates factors for a given number.  \n",
    "  \n",
    "The function takes an integer on the standard input and returns a list of integers (ObjC: array of NSNumbers representing integers). That list contains the prime factors in numerical sequence.\n",
    "\n",
    "---\n",
    "\n",
    "## Examples\n",
    "\n",
    "```\n",
    "prime_factors(1) -> []\n",
    "prime_factors(3) -> [3]\n",
    "prime_factors(8) -> [2, 2, 2]\n",
    "prime_factors(9) -> [3, 3]\n",
    "prime_factors(12) -> [2, 2, 3]\n",
    "```\n",
    "\n",
    "---\n",
    "\n",
    "## [Solution](https://www.codewars.com/kata/reviews/542f3f0037e0394a93000115/groups/60a611e74460d900014b4ac6)"
   ]
  },
  {
   "cell_type": "code",
   "execution_count": 1,
   "metadata": {},
   "outputs": [
    {
     "output_type": "execute_result",
     "data": {
      "text/plain": [
       "[2, 2, 3]"
      ]
     },
     "metadata": {},
     "execution_count": 1
    }
   ],
   "source": [
    "def prime_factors(n: int) -> list:\n",
    "   table, f = [], 3\n",
    "   while not n % 2:\n",
    "      n //= 2\n",
    "      table.append(2)\n",
    "   while f*f <= n:\n",
    "      if not n % f:\n",
    "         n //= f\n",
    "         table.append(f)\n",
    "      else:\n",
    "         f += 2\n",
    "   if n != 1:\n",
    "      table.append(n)\n",
    "   return table\n",
    "\n",
    "\n",
    "prime_factors(12)"
   ]
  },
  {
   "cell_type": "code",
   "execution_count": null,
   "metadata": {},
   "outputs": [],
   "source": []
  }
 ],
 "metadata": {
  "language_info": {
   "codemirror_mode": {
    "name": "ipython",
    "version": 3
   },
   "file_extension": ".py",
   "mimetype": "text/x-python",
   "name": "python",
   "nbconvert_exporter": "python",
   "pygments_lexer": "ipython3",
   "version": "3.8.6-final"
  },
  "orig_nbformat": 2,
  "kernelspec": {
   "name": "python3",
   "display_name": "Python 3.8.6 64-bit",
   "metadata": {
    "interpreter": {
     "hash": "33b9155f6fe620f02ad32cae37470d193ecdf9cc5f13dee15b7e34c18c21ac6c"
    }
   }
  }
 },
 "nbformat": 4,
 "nbformat_minor": 2
}