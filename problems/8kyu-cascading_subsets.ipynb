{
 "cells": [
  {
   "cell_type": "markdown",
   "metadata": {},
   "source": [
    "# [8kyu - Enumerable Magic #20 - Cascading Subsets](https://www.codewars.com/kata/545af3d185166a3dec001190)\n",
    "\n",
    "Create a method **each_cons** that accepts a list and a number $n$, and returns cascading subsets of the list of size $n$, like so:\n",
    "\n",
    "```\n",
    "each_cons([1,2,3,4], 2)\n",
    "  #=> [[1,2], [2,3], [3,4]]\n",
    "\n",
    "each_cons([1,2,3,4], 3)\n",
    "  #=> [[1,2,3],[2,3,4]]\n",
    "```\n",
    "\n",
    "---\n",
    "\n",
    "## Examples\n",
    "\n",
    "```\n",
    "lst = [3, 5, 8, 13]\n",
    "each_cons(lst, 2) -> [[3,5], [5,8], [8,13]]\n",
    "```\n",
    "\n",
    "---\n",
    "\n",
    "## [Solution](https://www.codewars.com/kata/reviews/606b07ce9e7560000181597d/groups/60b8c8d031763d0001c2d403)"
   ]
  },
  {
   "cell_type": "code",
   "execution_count": 2,
   "metadata": {
    "tags": []
   },
   "outputs": [
    {
     "output_type": "execute_result",
     "data": {
      "text/plain": [
       "[[3, 5], [5, 8], [8, 13]]"
      ]
     },
     "metadata": {},
     "execution_count": 2
    }
   ],
   "source": [
    "def cascade(x:list, n:int):\n",
    "   for i in range(len(x)-n+1):\n",
    "      yield x[i:i+n]\n",
    "\n",
    "\n",
    "def each_cons(lst, n):\n",
    "   return list(cascade(lst, n))\n",
    "\n",
    "\n",
    "each_cons([3, 5, 8, 13], 2)"
   ]
  },
  {
   "cell_type": "code",
   "execution_count": null,
   "metadata": {},
   "outputs": [],
   "source": []
  }
 ],
 "metadata": {
  "language_info": {
   "codemirror_mode": {
    "name": "ipython",
    "version": 3
   },
   "file_extension": ".py",
   "mimetype": "text/x-python",
   "name": "python",
   "nbconvert_exporter": "python",
   "pygments_lexer": "ipython3",
   "version": "3.8.6-final"
  },
  "orig_nbformat": 2,
  "kernelspec": {
   "name": "python3",
   "display_name": "Python 3.8.6 64-bit",
   "metadata": {
    "interpreter": {
     "hash": "33b9155f6fe620f02ad32cae37470d193ecdf9cc5f13dee15b7e34c18c21ac6c"
    }
   }
  }
 },
 "nbformat": 4,
 "nbformat_minor": 2
}