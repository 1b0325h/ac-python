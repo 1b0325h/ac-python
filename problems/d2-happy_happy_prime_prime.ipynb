{
 "cells": [
  {
   "cell_type": "markdown",
   "metadata": {},
   "source": [
    "# [Difficulty: 2.4 - Happy Happy Prime Prime](https://open.kattis.com/problems/happyprime)\n",
    "\n",
    "**RILEY VASHTEE**: *\\[reading from display\\]* Find the next number in the sequence:  \n",
    "  \n",
    "**313 331 367 ...? What?**  \n",
    "  \n",
    "**THE DOCTOR: 379**.  \n",
    "  \n",
    "**MARTHA JONES**: What?  \n",
    "  \n",
    "**THE DOCTOR**: It’s a sequence of happy primes – $379$.  \n",
    "  \n",
    "**MARTHA JONES**: Happy what?  \n",
    "  \n",
    "**THE DOCTOR**: Any number that reduces to one when you take the sum of the square of its digits and continue iterating it until it yields $1$ is a happy number. Any number that doesn’t, isn’t. A happy prime is both happy and prime.  \n",
    "  \n",
    "**THE DOCTOR**: I dunno, talk about dumbing down. Don’t they teach recreational mathematics anymore?  \n",
    "  \n",
    "Excerpted from \"Dr. Who,\" Episode 42(2007).  \n",
    "  \n",
    "The number 7 is certainly prime. But is it happy?  \n",
    "\n",
    "$\n",
    "\\begin{eqnarray*}\n",
    "7 &\\rightarrow& 7^2 = 49 \\\\\n",
    "49 &\\rightarrow& 4^2 + 9^2 = 97 \\\\\n",
    "97 &\\rightarrow& 9^2 + 7^2 = 130 \\\\\n",
    "130 &\\rightarrow& 1^2 + 3^2 = 10 \\\\\n",
    "10 &\\rightarrow& 1^2 + 0^2 = 1\n",
    "\\end{eqnarray*}\n",
    "$\n",
    "\n",
    "It is happy :-) As it happens, 7 is the smallest happy prime. Please note that for the purposes of this problem, 1 is not prime.  \n",
    "  \n",
    "For this problem you will write a program to determine if a number is a happy prime.  \n",
    "\n",
    "## Input\n",
    "\n",
    "The first line of input contains a single integer $P, (1 \\leq P \\leq 10000)$, which is the number of data sets that follow. Each data set should be processed identically and independently.  \n",
    "  \n",
    "Each data set consists of a single line of input. It contains the data set number, $K$, followed by the happy prime candidate, $m, (1 \\leq m \\leq 10000)$.\n",
    "\n",
    "## Output\n",
    "For each data set there is a single line of output. The single output line consists of the data set number, $K$, followed by a single space followed by the candidate, $m$, followed by a single space, followed by `YES` or `NO`, indicating whether $m$ is a happy prime.\n",
    "\n",
    "---\n",
    "\n",
    "## Examples\n",
    "\n",
    "```\n",
    "[Sample1]\n",
    "    Input: 4\n",
    "           1 1\n",
    "           2 7\n",
    "           3 383\n",
    "           4 1000\n",
    "   Output: 1 1 NO\n",
    "           2 7 YES\n",
    "           3 383 YES\n",
    "           4 1000 NO\n",
    "```\n",
    "\n",
    "---\n",
    "\n",
    "## [Solution](https://open.kattis.com/submissions/7359527)"
   ]
  },
  {
   "cell_type": "code",
   "execution_count": 1,
   "metadata": {
    "tags": []
   },
   "outputs": [
    {
     "output_type": "stream",
     "name": "stdout",
     "text": "1 1 NO\n2 7 YES\n3 383 YES\n4 1000 NO\n"
    }
   ],
   "source": [
    "def is_prime(n) -> bool:\n",
    "   if n < 2:\n",
    "      return False\n",
    "   for i in range(2, int(n**0.5) + 1):\n",
    "      if not n % i:\n",
    "         return False\n",
    "   return True\n",
    "\n",
    "\n",
    "def is_happy(n):\n",
    "   x = set()\n",
    "   while n > 1 and n not in x:\n",
    "      x.add(n)\n",
    "      n = sum(int(_)**2 for _ in list(str(n)))\n",
    "   return n == 1\n",
    "\n",
    "\n",
    "P = int(input())\n",
    "for i in range(P):\n",
    "   K, m = map(int, input().split())\n",
    "   print(K, m, \"YES\" if is_prime(m) and is_happy(m) else \"NO\")"
   ]
  },
  {
   "cell_type": "code",
   "execution_count": null,
   "metadata": {},
   "outputs": [],
   "source": []
  }
 ],
 "metadata": {
  "language_info": {
   "codemirror_mode": {
    "name": "ipython",
    "version": 3
   },
   "file_extension": ".py",
   "mimetype": "text/x-python",
   "name": "python",
   "nbconvert_exporter": "python",
   "pygments_lexer": "ipython3",
   "version": "3.8.2-final"
  },
  "orig_nbformat": 2,
  "kernelspec": {
   "name": "python38264bitaf2d0123063b462da592b33d3d13a1e8",
   "display_name": "Python 3.8.2 64-bit"
  }
 },
 "nbformat": 4,
 "nbformat_minor": 2
}