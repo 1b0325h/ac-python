{
 "cells": [
  {
   "cell_type": "markdown",
   "metadata": {},
   "source": [
    "# [7kyu - Count the divisors of a number](https://www.codewars.com/kata/542c0f198e077084c0000c2e)\n",
    "\n",
    "Count the number of divisors of a positive integer $n$.  \n",
    "  \n",
    "Random tests go up to $n = 500000$.\n",
    "\n",
    "---\n",
    "\n",
    "## Examples\n",
    "\n",
    "```\n",
    "divisors(4)  == 3  # 1, 2, 4\n",
    "divisors(5)  == 2  # 1, 5\n",
    "divisors(12) == 6  # 1, 2, 3, 4, 6, 12\n",
    "divisors(30) == 8  # 1, 2, 3, 5, 6, 10, 15, 30\n",
    "```\n",
    "\n",
    "---\n",
    "\n",
    "## [Solution](https://www.codewars.com/kata/reviews/553a8c6b1e039900d60001dd/groups/60b9af5e557e720001f91fe4)"
   ]
  },
  {
   "cell_type": "code",
   "execution_count": 1,
   "metadata": {
    "tags": []
   },
   "outputs": [
    {
     "output_type": "execute_result",
     "data": {
      "text/plain": "8"
     },
     "metadata": {},
     "execution_count": 1
    }
   ],
   "source": [
    "def divisors(n) -> list:\n",
    "   x = set()\n",
    "   i = 1\n",
    "   while i**2 <= n:\n",
    "      if not n % i:\n",
    "         x.add(i)\n",
    "         x.add(n // i)\n",
    "      i += 1\n",
    "   return len(x)\n",
    "\n",
    "\n",
    "divisors(30)"
   ]
  },
  {
   "cell_type": "code",
   "execution_count": null,
   "metadata": {},
   "outputs": [],
   "source": []
  }
 ],
 "metadata": {
  "language_info": {
   "codemirror_mode": {
    "name": "ipython",
    "version": 3
   },
   "file_extension": ".py",
   "mimetype": "text/x-python",
   "name": "python",
   "nbconvert_exporter": "python",
   "pygments_lexer": "ipython3",
   "version": "3.8.2-final"
  },
  "orig_nbformat": 2,
  "kernelspec": {
   "name": "python38264bitaf2d0123063b462da592b33d3d13a1e8",
   "display_name": "Python 3.8.2 64-bit"
  }
 },
 "nbformat": 4,
 "nbformat_minor": 2
}