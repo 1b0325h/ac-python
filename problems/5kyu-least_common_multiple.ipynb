{
 "cells": [
  {
   "cell_type": "markdown",
   "metadata": {},
   "source": [
    "# [5kyu - Least Common Multiple](https://www.codewars.com/kata/5259acb16021e9d8a60010af)\n",
    "\n",
    "Write a function that calculates the least common multiple of its arguments; each argument is assumed to be a non-negative integer. In the case that there are no arguments (or the provided array in compiled languages is empty), return `1`.\n",
    "\n",
    "---\n",
    "\n",
    "## Examples\n",
    "\n",
    "```\n",
    "lcm(2,5) -> 10\n",
    "lcm(2,3,4) -> 12\n",
    "lcm(9) -> 9\n",
    "lcm(0) -> 0\n",
    "lcm(0,1) -> 0\n",
    "```\n",
    "\n",
    "---\n",
    "\n",
    "## [Solution](https://www.codewars.com/kata/reviews/53d02c168931644e2e00000c/groups/60b112f8713f2c0001b3e4c3)"
   ]
  },
  {
   "cell_type": "code",
   "execution_count": 1,
   "metadata": {
    "tags": []
   },
   "outputs": [
    {
     "output_type": "execute_result",
     "data": {
      "text/plain": [
       "10"
      ]
     },
     "metadata": {},
     "execution_count": 1
    }
   ],
   "source": [
    "from functools import reduce\n",
    "\n",
    "\n",
    "def lcm_(x, y):\n",
    "   if not y:\n",
    "      return 0\n",
    "   def _gcd(x, y):\n",
    "      while y:\n",
    "         x, y = y, x % y\n",
    "      return x\n",
    "   return x * y // _gcd(x, y)\n",
    "\n",
    "\n",
    "def lcm(*args):\n",
    "   if args == ():\n",
    "      return 1\n",
    "   elif isinstance(args[0], list):\n",
    "      return args[0]\n",
    "   else:\n",
    "      return reduce(lcm_, args, 1)\n",
    "\n",
    "\n",
    "lcm(2, 5)"
   ]
  },
  {
   "cell_type": "code",
   "execution_count": null,
   "metadata": {},
   "outputs": [],
   "source": []
  }
 ],
 "metadata": {
  "language_info": {
   "codemirror_mode": {
    "name": "ipython",
    "version": 3
   },
   "file_extension": ".py",
   "mimetype": "text/x-python",
   "name": "python",
   "nbconvert_exporter": "python",
   "pygments_lexer": "ipython3",
   "version": "3.8.6-final"
  },
  "orig_nbformat": 2,
  "kernelspec": {
   "name": "python3",
   "display_name": "Python 3.8.6 64-bit",
   "metadata": {
    "interpreter": {
     "hash": "33b9155f6fe620f02ad32cae37470d193ecdf9cc5f13dee15b7e34c18c21ac6c"
    }
   }
  }
 },
 "nbformat": 4,
 "nbformat_minor": 2
}