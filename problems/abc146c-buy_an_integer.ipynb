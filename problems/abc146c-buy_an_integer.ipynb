{
 "cells": [
  {
   "cell_type": "markdown",
   "metadata": {},
   "source": [
    "# [ABC146C - Buy an Integer](https://atcoder.jp/contests/abc146/tasks/abc146_c)\n",
    "\n",
    "## Problem Statement\n",
    "\n",
    "Takahashi has come to an integer shop to buy an integer.  \n",
    "  \n",
    "The shop sells the integers from $1$ through $10^9$. The integer $N$ is sold for $A \\times N + B \\times d(N)$ yen (the currency of Japan), where $d(N)$ is the number of digits in the decimal notation of $N$.  \n",
    "  \n",
    "Find the largest integer that Takahashi can buy when he has $X$ yen. If no integer can be bought, print $0$.\n",
    "\n",
    "## Constraints\n",
    "\n",
    "- All values in input are integers.\n",
    "- $1 \\leq A \\leq 10^9$\n",
    "- $1 \\leq B \\leq 10^9$\n",
    "- $1 \\leq X \\leq 10^{18}$\n",
    "\n",
    "## Output\n",
    "\n",
    "Print the greatest integer that Takahashi can buy. If no integer can be bought, print $0$.\n",
    "\n",
    "---\n",
    "\n",
    "## Examples\n",
    "\n",
    "```\n",
    "[Sample1]\n",
    "    Input: 10 7 100\n",
    "   Output: 9\n",
    "\n",
    "[Sample2]\n",
    "    Input: 2 1 100000000000\n",
    "   Output: 0\n",
    "\n",
    "[Sample3]\n",
    "    Input: 1000000000 1000000000 100\n",
    "   Output: 1\n",
    "\n",
    "[Sample4]\n",
    "    Input: 1234 56789 314159265\n",
    "   Output: 254309\n",
    "```\n",
    "\n",
    "---\n",
    "\n",
    "## [Solution](https://atcoder.jp/contests/abc146/submissions/22852450)"
   ]
  },
  {
   "cell_type": "code",
   "execution_count": 1,
   "metadata": {
    "tags": []
   },
   "outputs": [
    {
     "output_type": "stream",
     "name": "stdout",
     "text": "254309\n"
    }
   ],
   "source": [
    "def meguru(ng, ok) -> int:\n",
    "\n",
    "   def _is_ok(mid) -> bool:\n",
    "      return A*mid + B*len(str(mid)) <= X\n",
    "\n",
    "   while abs(ok - ng) > 1:\n",
    "      mid = (ok + ng) // 2\n",
    "      if _is_ok(mid):\n",
    "         ok = mid\n",
    "      else:\n",
    "         ng = mid\n",
    "   return ok\n",
    "\n",
    "\n",
    "A, B, X = map(int, input().split())\n",
    "\n",
    "print(meguru(10**9 + 1, 0))"
   ]
  },
  {
   "cell_type": "code",
   "execution_count": null,
   "metadata": {},
   "outputs": [],
   "source": []
  }
 ],
 "metadata": {
  "language_info": {
   "codemirror_mode": {
    "name": "ipython",
    "version": 3
   },
   "file_extension": ".py",
   "mimetype": "text/x-python",
   "name": "python",
   "nbconvert_exporter": "python",
   "pygments_lexer": "ipython3",
   "version": "3.8.2-final"
  },
  "orig_nbformat": 2,
  "kernelspec": {
   "name": "python38264bitaf2d0123063b462da592b33d3d13a1e8",
   "display_name": "Python 3.8.2 64-bit"
  }
 },
 "nbformat": 4,
 "nbformat_minor": 2
}