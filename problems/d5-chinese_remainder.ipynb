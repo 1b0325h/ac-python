{
 "cells": [
  {
   "cell_type": "markdown",
   "metadata": {},
   "source": [
    "# [Difficulty: 5.5 - Chinese Remainder](https://open.kattis.com/problems/chineseremainder)\n",
    "\n",
    "## Input\n",
    "\n",
    "The first line of input consists of an integers $T$ where $1 \\leq T \\leq 1000$, the number of test cases. Then follow $T$ lines, each containing four integers $a, n, b, m$ satisfying $1 \\leq n, m \\leq 10^9$, $0 \\leq a < n, 0 \\leq b < m$. Also, you may assume $gcd(n, m) = 1$.\n",
    "\n",
    "## Output\n",
    "\n",
    "For each test case, output two integers $x$, $K$, where K=nm and $0 \\leq x < K$, giving the solution $x(mod \\quad K)$ to the equations $x = a(mod \\quad n), x = b(mod \\quad m)$.\n",
    "\n",
    "---\n",
    "\n",
    "## Examples\n",
    "\n",
    "```\n",
    "[Sample1]\n",
    "    Input: 2\n",
    "           1 2 2 3\n",
    "           151 783 57 278\n",
    "   Output: 5 6\n",
    "           31471 217674\n",
    "```\n",
    "\n",
    "---\n",
    "\n",
    "## [Solution](https://open.kattis.com/submissions/7449596)"
   ]
  },
  {
   "cell_type": "code",
   "execution_count": 1,
   "metadata": {
    "tags": []
   },
   "outputs": [
    {
     "output_type": "stream",
     "name": "stdout",
     "text": "5 6\n31471 217674\n"
    }
   ],
   "source": [
    "def crt(rem: list, mod: list) -> tuple:\n",
    "   def _egcd(a, b):\n",
    "      if not a:\n",
    "         return (b, 0, 1)\n",
    "      else:\n",
    "         d, y, x = _egcd(b % a, a)\n",
    "         return (d, x - b//a * y, y)\n",
    "\n",
    "   r, m = 0, 1\n",
    "   for i in range(len(rem)):\n",
    "      x, y, _ = _egcd(m, mod[i])\n",
    "      if (rem[i]-r) % x:\n",
    "         return (0, -1)\n",
    "      r += m * ((rem[i]-r) // x*y % (mod[i]//x))\n",
    "      m *= mod[i]//x\n",
    "\n",
    "   return (r % m, m)\n",
    "\n",
    "\n",
    "for _ in range(int(input())):\n",
    "   a, n, b, m = map(int, input().split())\n",
    "   print(*crt([a, b], [n, m]))"
   ]
  },
  {
   "cell_type": "code",
   "execution_count": null,
   "metadata": {},
   "outputs": [],
   "source": []
  }
 ],
 "metadata": {
  "language_info": {
   "codemirror_mode": {
    "name": "ipython",
    "version": 3
   },
   "file_extension": ".py",
   "mimetype": "text/x-python",
   "name": "python",
   "nbconvert_exporter": "python",
   "pygments_lexer": "ipython3",
   "version": "3.8.2-final"
  },
  "orig_nbformat": 2,
  "kernelspec": {
   "name": "python38264bitaf2d0123063b462da592b33d3d13a1e8",
   "display_name": "Python 3.8.2 64-bit"
  }
 },
 "nbformat": 4,
 "nbformat_minor": 2
}