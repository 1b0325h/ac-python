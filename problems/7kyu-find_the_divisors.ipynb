{
 "cells": [
  {
   "cell_type": "markdown",
   "metadata": {},
   "source": [
    "# [7kyu - Find the divisors!](https://www.codewars.com/kata/544aed4c4a30184e960010f4)\n",
    "\n",
    "Create a function named `divisors`/`Divisors` that takes an integer $n > 1$ and returns an array with all of the integer's divisors(except for 1 and the number itself), from smallest to largest. If the number is prime return the string '(integer) is prime' (`null` in C#) (use `Either String` a in Haskell and `Result<Vec<u32>, String>` in Rust).\n",
    "\n",
    "---\n",
    "\n",
    "## Examples\n",
    "\n",
    "```\n",
    "divisors(12); #should return [2,3,4,6]\n",
    "divisors(25); #should return [5]\n",
    "divisors(13); #should return \"13 is prime\"\n",
    "```\n",
    "\n",
    "---\n",
    "\n",
    "## [Solution](https://www.codewars.com/kata/reviews/5463a9d8372ca898a0000060/groups/60b9b569b670ae0001afc74b)"
   ]
  },
  {
   "cell_type": "code",
   "execution_count": 1,
   "metadata": {
    "tags": []
   },
   "outputs": [
    {
     "output_type": "execute_result",
     "data": {
      "text/plain": "[2, 3, 4, 6]"
     },
     "metadata": {},
     "execution_count": 1
    }
   ],
   "source": [
    "def is_prime(n) -> bool:\n",
    "   if n < 2:\n",
    "      return False\n",
    "   for i in range(2, int(n**0.5) + 1):\n",
    "      if not n % i:\n",
    "         return False\n",
    "   return True\n",
    "\n",
    "\n",
    "def divisors_(n) -> list:\n",
    "   x = set()\n",
    "   i = 1\n",
    "   while i**2 <= n:\n",
    "      if not n % i:\n",
    "         x.add(i)\n",
    "         x.add(n // i)\n",
    "      i += 1\n",
    "   return sorted(x)\n",
    "\n",
    "\n",
    "def divisors(integer):\n",
    "   if is_prime(integer):\n",
    "      return f\"{integer} is prime\"\n",
    "   else:\n",
    "      return divisors_(integer)[1:-1]\n",
    "\n",
    "\n",
    "divisors(12)"
   ]
  },
  {
   "cell_type": "code",
   "execution_count": null,
   "metadata": {},
   "outputs": [],
   "source": []
  }
 ],
 "metadata": {
  "language_info": {
   "codemirror_mode": {
    "name": "ipython",
    "version": 3
   },
   "file_extension": ".py",
   "mimetype": "text/x-python",
   "name": "python",
   "nbconvert_exporter": "python",
   "pygments_lexer": "ipython3",
   "version": "3.8.6-final"
  },
  "orig_nbformat": 2,
  "kernelspec": {
   "name": "python3",
   "display_name": "Python 3.8.6 64-bit",
   "metadata": {
    "interpreter": {
     "hash": "33b9155f6fe620f02ad32cae37470d193ecdf9cc5f13dee15b7e34c18c21ac6c"
    }
   }
  }
 },
 "nbformat": 4,
 "nbformat_minor": 2
}