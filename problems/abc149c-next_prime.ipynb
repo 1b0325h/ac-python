{
 "cells": [
  {
   "cell_type": "markdown",
   "metadata": {},
   "source": [
    "# [ABC149C - Next Prime](https://atcoder.jp/contests/abc149/tasks/abc149_c)\n",
    "\n",
    "## Problem Statement\n",
    "\n",
    "Find the minimum prime number greater than or equal to $X$.\n",
    "\n",
    "## Notes\n",
    "\n",
    "A prime number is an integer greater than $1$ that cannot be evenly divided by any positive integer except $1$ and itself.  \n",
    "  \n",
    "For example, $2$, $3$, and $5$ are prime numbers, while $4$ and $6$ are not.\n",
    "\n",
    "## Constraints\n",
    "\n",
    "- $2 \\leq X \\leq 10^5$\n",
    "- All values in input are integers.\n",
    "\n",
    "## Output\n",
    "\n",
    "Print the minimum prime number greater than or equal to $X$.\n",
    "\n",
    "---\n",
    "\n",
    "## Examples\n",
    "\n",
    "```\n",
    "[Sample1]\n",
    "    Input: 20\n",
    "   Output: 23\n",
    "\n",
    "[Sample2]\n",
    "    Input: 2\n",
    "   Output: 2\n",
    "\n",
    "[Sample3]\n",
    "    Input: 99992\n",
    "   Output: 100003\n",
    "```\n",
    "\n",
    "---\n",
    "\n",
    "## [Solution](https://atcoder.jp/contests/abc149/submissions/22852551)"
   ]
  },
  {
   "cell_type": "code",
   "execution_count": 1,
   "metadata": {
    "tags": []
   },
   "outputs": [
    {
     "output_type": "stream",
     "name": "stdout",
     "text": [
      "100003\n"
     ]
    }
   ],
   "source": [
    "def is_prime(n) -> bool:\n",
    "   if n < 2:\n",
    "      return False\n",
    "   for i in range(2, int(n**0.5) + 1):\n",
    "      if not n % i:\n",
    "         return False\n",
    "   return True\n",
    " \n",
    " \n",
    "X = int(input())\n",
    " \n",
    "while not is_prime(X):\n",
    "   X += 1\n",
    " \n",
    "print(X)"
   ]
  },
  {
   "cell_type": "code",
   "execution_count": null,
   "metadata": {},
   "outputs": [],
   "source": []
  }
 ],
 "metadata": {
  "language_info": {
   "codemirror_mode": {
    "name": "ipython",
    "version": 3
   },
   "file_extension": ".py",
   "mimetype": "text/x-python",
   "name": "python",
   "nbconvert_exporter": "python",
   "pygments_lexer": "ipython3",
   "version": "3.8.6-final"
  },
  "orig_nbformat": 2,
  "kernelspec": {
   "name": "python3",
   "display_name": "Python 3.8.6 64-bit",
   "metadata": {
    "interpreter": {
     "hash": "33b9155f6fe620f02ad32cae37470d193ecdf9cc5f13dee15b7e34c18c21ac6c"
    }
   }
  }
 },
 "nbformat": 4,
 "nbformat_minor": 2
}