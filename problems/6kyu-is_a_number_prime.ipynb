{
 "cells": [
  {
   "cell_type": "markdown",
   "metadata": {},
   "source": [
    "# [6kyu - Is a number prime?](https://www.codewars.com/kata/5262119038c0985a5b00029f)\n",
    "\n",
    "Define a function that takes one integer argument and returns logical value `true` or `false` depending on if the integer is a prime.  \n",
    "  \n",
    "Per Wikipedia, a prime number (or a prime) is a natural number greater than $1$ that has no positive divisors other than $1$ and itself.\n",
    "\n",
    "## Requirements\n",
    "\n",
    "- You can assume you will be given an integer input.\n",
    "- You can not assume that the integer will be only positive. You may be given negative numbers as well (or $0$).\n",
    "- **NOTE on performance:** There are no fancy optimizations required, but still the most trivial solutions might time out. Numbers go up to $2^{31}$ (or similar, depends on language version). Looping all the way up to `n`, or `n/2`, will be too slow.\n",
    "\n",
    "---\n",
    "\n",
    "## Examples\n",
    "\n",
    "```\n",
    "is_prime(0) -> False\n",
    "is_prime(1) -> False\n",
    "is_prime(2) -> True  \n",
    "is_prime(73) -> True  \n",
    "is_prime(75) -> False\n",
    "is_prime(-1) -> False\n",
    "```\n",
    "\n",
    "---\n",
    "\n",
    "## [Solution](https://www.codewars.com/kata/reviews/54586afb54d8fe15190001b6/groups/60a6022804c8f30001b9ff0d)"
   ]
  },
  {
   "cell_type": "code",
   "execution_count": 3,
   "metadata": {},
   "outputs": [
    {
     "output_type": "execute_result",
     "data": {
      "text/plain": "2"
     },
     "metadata": {},
     "execution_count": 3
    }
   ],
   "source": [
    "def is_prime(n) -> bool:\n",
    "   if n < 2:\n",
    "      return False\n",
    "   for i in range(2, int(n**0.5) + 1):\n",
    "      if not n % i:\n",
    "         return False\n",
    "   return True\n",
    "\n",
    "\n",
    "is_prime(2)"
   ]
  },
  {
   "cell_type": "code",
   "execution_count": null,
   "metadata": {},
   "outputs": [],
   "source": []
  }
 ],
 "metadata": {
  "language_info": {
   "codemirror_mode": {
    "name": "ipython",
    "version": 3
   },
   "file_extension": ".py",
   "mimetype": "text/x-python",
   "name": "python",
   "nbconvert_exporter": "python",
   "pygments_lexer": "ipython3",
   "version": "3.8.2-final"
  },
  "orig_nbformat": 2,
  "kernelspec": {
   "name": "python38264bitaf2d0123063b462da592b33d3d13a1e8",
   "display_name": "Python 3.8.2 64-bit"
  }
 },
 "nbformat": 4,
 "nbformat_minor": 2
}