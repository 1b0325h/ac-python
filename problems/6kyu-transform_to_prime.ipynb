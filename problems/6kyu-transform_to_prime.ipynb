{
 "cells": [
  {
   "cell_type": "markdown",
   "metadata": {},
   "source": [
    "# [6kyu - Transform To Prime](https://www.codewars.com/kata/5a946d9fba1bb5135100007c)\n",
    "\n",
    "## Task\n",
    "\n",
    "**Given** a List`[]` of $n$ integers, **find minimum number** to be **Inserted** in a list, so that **sum of elements of list** should equal the closest prime number.\n",
    "\n",
    "## Notes\n",
    "\n",
    "- **List size** is at least $2$.\n",
    "- **List's numbers** will only **positives** $(n > 0)$.\n",
    "- **Repetition** of numbers in the list **could occur**.\n",
    "- **The newer list's sum** should equal the closest prime number.\n",
    "\n",
    "---\n",
    "\n",
    "## Examples\n",
    "\n",
    "```\n",
    "minimum_number([3,1,2]) -> 1\n",
    "minimum_number([5,2]) -> 0\n",
    "minimum_number([1,1,1]) -> 0\n",
    "minimum_number([2,12,8,4,6]) -> 5\n",
    "minimum_number([50,39,49,6,17,28]) -> 2\n",
    "```\n",
    "\n",
    "---\n",
    "\n",
    "## [Solution](https://www.codewars.com/kata/reviews/5ad2261b087bc89189000e82/groups/60a5ed47c44b5400016b8043)"
   ]
  },
  {
   "cell_type": "code",
   "execution_count": 3,
   "metadata": {},
   "outputs": [
    {
     "output_type": "execute_result",
     "data": {
      "text/plain": "2"
     },
     "metadata": {},
     "execution_count": 3
    }
   ],
   "source": [
    "def is_prime(n) -> bool:\n",
    "   if n < 2:\n",
    "      return False\n",
    "   for i in range(2, int(n**0.5) + 1):\n",
    "      if not n % i:\n",
    "         return False\n",
    "   return True\n",
    "\n",
    "\n",
    "def minimum_number(numbers):\n",
    "   sum_ = sum(numbers)\n",
    "   while not is_prime(sum(numbers)):\n",
    "      numbers += [1]\n",
    "   return sum(numbers) - sum_\n",
    "\n",
    "\n",
    "minimum_number([50, 39, 49, 6, 17, 28])"
   ]
  },
  {
   "cell_type": "code",
   "execution_count": null,
   "metadata": {},
   "outputs": [],
   "source": []
  }
 ],
 "metadata": {
  "language_info": {
   "codemirror_mode": {
    "name": "ipython",
    "version": 3
   },
   "file_extension": ".py",
   "mimetype": "text/x-python",
   "name": "python",
   "nbconvert_exporter": "python",
   "pygments_lexer": "ipython3",
   "version": "3.8.2-final"
  },
  "orig_nbformat": 2,
  "kernelspec": {
   "name": "python38264bitaf2d0123063b462da592b33d3d13a1e8",
   "display_name": "Python 3.8.2 64-bit"
  }
 },
 "nbformat": 4,
 "nbformat_minor": 2
}