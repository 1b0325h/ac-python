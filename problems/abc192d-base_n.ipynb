{
 "cells": [
  {
   "cell_type": "markdown",
   "metadata": {},
   "source": [
    "# [ABC192D - Base n](https://atcoder.jp/contests/abc192/tasks/abc192_d)\n",
    "\n",
    "## Problem Statement\n",
    "\n",
    "Given are a string $X$ consisting of `0` through `9`, and an integer $M$.  \n",
    "  \n",
    "Let $d$ be the greatest digit in $X$.  \n",
    "  \n",
    "How many different integers not greater than $M$ can be obtained by choosing an integer $n$ not less than $d + 1$ and seeing $X$ as a base-$n$ number?\n",
    "\n",
    "## Constraints\n",
    "\n",
    "- $X$ consists of `0` through `9`.\n",
    "- The length of $X$ is between $1$ and $60$ (inclusive).\n",
    "- $X$ does not begin with a `0`.\n",
    "- $1 \\leq M \\leq 10^{18}$\n",
    "\n",
    "---\n",
    "\n",
    "## Examples\n",
    "\n",
    "```\n",
    "[Sample1]\n",
    "    Input: 22\n",
    "           10\n",
    "   Output: 2\n",
    "\n",
    "[Sample2]\n",
    "    Input: 999\n",
    "           1500\n",
    "   Output: 3\n",
    "\n",
    "[Sample3]\n",
    "    Input: 100000000000000000000000000000000000000000000000000000000000\n",
    "           1000000000000000000\n",
    "   Output: 1\n",
    "```\n",
    "\n",
    "---\n",
    "\n",
    "## [Solution](https://atcoder.jp/contests/abc192/submissions/22831318)"
   ]
  },
  {
   "cell_type": "code",
   "execution_count": 2,
   "metadata": {
    "tags": []
   },
   "outputs": [
    {
     "output_type": "stream",
     "name": "stdout",
     "text": [
      "2\n"
     ]
    }
   ],
   "source": [
    "def to_base_10(n: str, base: int) -> int:\n",
    "   x = list(n)\n",
    "   c = 0\n",
    "   while x:\n",
    "      c *= base\n",
    "      c += int(x.pop(0))\n",
    "   return c\n",
    " \n",
    " \n",
    "def meguru(ng, ok) -> int:\n",
    " \n",
    "   def _is_ok(mid) -> bool:\n",
    "      return to_base_10(X, mid) <= M\n",
    " \n",
    "   while abs(ok - ng) > 1:\n",
    "      mid = (ok + ng) // 2\n",
    "      if _is_ok(mid):\n",
    "         ok = mid\n",
    "      else:\n",
    "         ng = mid\n",
    "   return ok\n",
    " \n",
    " \n",
    "X = input()\n",
    "M = int(input())\n",
    " \n",
    "if len(X) == 1:\n",
    "   if int(X) <= M:\n",
    "      print(1)\n",
    "   else:\n",
    "      print(0)\n",
    "else:\n",
    "   print(max(meguru(M+1, 0) - int(max(X)), 0))"
   ]
  },
  {
   "cell_type": "code",
   "execution_count": null,
   "metadata": {},
   "outputs": [],
   "source": []
  }
 ],
 "metadata": {
  "language_info": {
   "codemirror_mode": {
    "name": "ipython",
    "version": 3
   },
   "file_extension": ".py",
   "mimetype": "text/x-python",
   "name": "python",
   "nbconvert_exporter": "python",
   "pygments_lexer": "ipython3",
   "version": "3.8.6-final"
  },
  "orig_nbformat": 2,
  "kernelspec": {
   "name": "python3",
   "display_name": "Python 3.8.6 64-bit",
   "metadata": {
    "interpreter": {
     "hash": "33b9155f6fe620f02ad32cae37470d193ecdf9cc5f13dee15b7e34c18c21ac6c"
    }
   }
  }
 },
 "nbformat": 4,
 "nbformat_minor": 2
}