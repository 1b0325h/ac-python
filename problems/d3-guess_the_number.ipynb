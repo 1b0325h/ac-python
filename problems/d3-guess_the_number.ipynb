{
 "cells": [
  {
   "cell_type": "markdown",
   "metadata": {},
   "source": [
    "# [Difficulty: 3.1 - Guess the Number](https://open.kattis.com/problems/guess)\n",
    "\n",
    "I am thinking of a number between $1$ and $1000$, can you guess what number it is? Given a guess, I will tell you whether the guess is too low, too high, or correct. But I will only give you $10$ guesses, so use them wisely!\n",
    "\n",
    "## Interaction\n",
    "\n",
    "Your program should output guesses for the correct number, in the form of an integer between $1$ and $1000$ on a line on its own. After making each guess, you need to make sure to flush standard out.  \n",
    "  \n",
    "After each guess, there will be a response to be read from standard in. This response is a line with one of the following three words:  \n",
    "\n",
    "- \"`lower`\" if the number I am thinking of is lower than your guess\n",
    "- \"`higher`\" if the number I am thinking of is higher than your guess\n",
    "- \"`correct`\" if your guess is correct\n",
    "\n",
    "After having guessed the right answer your program should exit. If you guess incorrectly $10$ times, you won’t get any more chances and your program will be terminated.\n",
    "\n",
    "---\n",
    "\n",
    "## [Solution](https://open.kattis.com/submissions/7359193)"
   ]
  },
  {
   "cell_type": "code",
   "execution_count": 1,
   "metadata": {
    "tags": []
   },
   "outputs": [
    {
     "output_type": "stream",
     "name": "stdout",
     "text": "500\n750\n625\n687\n718\n734\n726\n730\n"
    }
   ],
   "source": [
    "def meguru(ng, ok) -> int:\n",
    "\n",
    "   def _is_ok(mid):\n",
    "      a = input()\n",
    "      if a == \"correct\":\n",
    "         return None\n",
    "      else:\n",
    "         return a == \"lower\"\n",
    "\n",
    "   while abs(ok - ng) > 1:\n",
    "      mid = (ok + ng) // 2\n",
    "      print(mid)\n",
    "\n",
    "      reply = _is_ok(mid)\n",
    "      if reply is None:\n",
    "         return None\n",
    "      elif reply:\n",
    "         ok = mid\n",
    "      else:\n",
    "         ng = mid\n",
    "\n",
    "\n",
    "meguru(0, 1001)   # I want to guess 730."
   ]
  },
  {
   "cell_type": "code",
   "execution_count": null,
   "metadata": {},
   "outputs": [],
   "source": []
  }
 ],
 "metadata": {
  "language_info": {
   "codemirror_mode": {
    "name": "ipython",
    "version": 3
   },
   "file_extension": ".py",
   "mimetype": "text/x-python",
   "name": "python",
   "nbconvert_exporter": "python",
   "pygments_lexer": "ipython3",
   "version": "3.8.2-final"
  },
  "orig_nbformat": 2,
  "kernelspec": {
   "name": "python38264bitaf2d0123063b462da592b33d3d13a1e8",
   "display_name": "Python 3.8.2 64-bit"
  }
 },
 "nbformat": 4,
 "nbformat_minor": 2
}