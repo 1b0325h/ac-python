{
 "cells": [
  {
   "cell_type": "markdown",
   "metadata": {},
   "source": [
    "# [ABC148C - Snack](https://atcoder.jp/contests/abc148/tasks/abc148_c)\n",
    "\n",
    "## Problem Statement\n",
    "\n",
    "Takahashi is organizing a party.  \n",
    "  \n",
    "At the party, each guest will receive one or more snack pieces.  \n",
    "  \n",
    "Takahashi predicts that the number of guests at this party will be $A$ or $B$.  \n",
    "  \n",
    "Find the minimum number of pieces that can be evenly distributed to the guests in both of the cases predicted.  \n",
    "  \n",
    "We assume that a piece cannot be divided and distributed to multiple guests.\n",
    "\n",
    "## Constraints\n",
    "\n",
    "- $1 \\leq A, B \\leq 10^5$\n",
    "- $A \\neq B$\n",
    "- All values in input are integers.\n",
    "\n",
    "## Output\n",
    "\n",
    "Print the minimum number of pieces that can be evenly distributed to the guests in both of the cases with $A$ guests and $B$ guests.\n",
    "\n",
    "---\n",
    "\n",
    "## Examples\n",
    "\n",
    "```\n",
    "[Sample1]\n",
    "    Input: 2 3\n",
    "   Output: 6\n",
    "\n",
    "[Sample2]\n",
    "    Input: 123 456\n",
    "   Output: 18696\n",
    "\n",
    "[Sample3]\n",
    "    Input: 100000 99999\n",
    "   Output: 9999900000\n",
    "```\n",
    "\n",
    "---\n",
    "\n",
    "## [Solution](https://atcoder.jp/contests/abc148/submissions/22962101)"
   ]
  },
  {
   "cell_type": "code",
   "execution_count": 1,
   "metadata": {
    "tags": []
   },
   "outputs": [
    {
     "output_type": "stream",
     "name": "stdout",
     "text": [
      "18696\n"
     ]
    }
   ],
   "source": [
    "def lcm(x, y):\n",
    "   if not y:\n",
    "      return 0\n",
    "   def _gcd(x, y):\n",
    "      while y:\n",
    "         x, y = y, x % y\n",
    "      return x\n",
    "   return x * y // _gcd(x, y)\n",
    "\n",
    "\n",
    "A, B = map(int, input().split())\n",
    "\n",
    "print(lcm(A, B))"
   ]
  },
  {
   "cell_type": "code",
   "execution_count": null,
   "metadata": {},
   "outputs": [],
   "source": []
  }
 ],
 "metadata": {
  "language_info": {
   "codemirror_mode": {
    "name": "ipython",
    "version": 3
   },
   "file_extension": ".py",
   "mimetype": "text/x-python",
   "name": "python",
   "nbconvert_exporter": "python",
   "pygments_lexer": "ipython3",
   "version": "3.8.6-final"
  },
  "orig_nbformat": 2,
  "kernelspec": {
   "name": "python3",
   "display_name": "Python 3.8.6 64-bit",
   "metadata": {
    "interpreter": {
     "hash": "33b9155f6fe620f02ad32cae37470d193ecdf9cc5f13dee15b7e34c18c21ac6c"
    }
   }
  }
 },
 "nbformat": 4,
 "nbformat_minor": 2
}