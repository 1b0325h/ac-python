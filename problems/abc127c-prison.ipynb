{
 "cells": [
  {
   "cell_type": "markdown",
   "metadata": {},
   "source": [
    "# [ABC127C - Prison](https://atcoder.jp/contests/abc127/tasks/abc127_c)\n",
    "\n",
    "## Problem Statement\n",
    "\n",
    "We have $N$ ID cards, and there are $M$ gates.  \n",
    "  \n",
    "We can pass the $i$-th gate if we have one of the following ID cards: the $L_i$-th, ($L_i + 1$)-th, ..., and $R_i$-th ID cards.  \n",
    "  \n",
    "How many of the ID cards allow us to pass all the gates alone?\n",
    "\n",
    "## Constraints\n",
    "\n",
    "- All values in input are integers.\n",
    "- $1 \\leq N \\leq 10^5$\n",
    "- $1 \\leq M \\leq 10^5$\n",
    "- $1 \\leq L_i \\leq R_i \\leq N$\n",
    "\n",
    "## Output\n",
    "\n",
    "Print the number of ID cards that allow us to pass all the gates alone.\n",
    "\n",
    "---\n",
    "\n",
    "## Examples\n",
    "\n",
    "```\n",
    "[Sample1]\n",
    "    Input: 4 2\n",
    "           1 3\n",
    "           2 4\n",
    "   Output: 2\n",
    "\n",
    "[Sample2]\n",
    "    Input: 10 3\n",
    "           3 6\n",
    "           5 7\n",
    "           6 9\n",
    "   Output: 1\n",
    "\n",
    "[Sample3]\n",
    "    Input: 100000 1\n",
    "           1 100000\n",
    "   Output: 100000\n",
    "```\n",
    "\n",
    "---\n",
    "\n",
    "## [Solution](https://atcoder.jp/contests/abc127/tasks/abc127_c)"
   ]
  },
  {
   "cell_type": "code",
   "execution_count": 1,
   "metadata": {
    "tags": []
   },
   "outputs": [
    {
     "output_type": "stream",
     "name": "stdout",
     "text": [
      "2\n"
     ]
    }
   ],
   "source": [
    "def imos_1(start: list, end: list, add: list) -> list:\n",
    "   table = [0] * (x := max(end)+2)\n",
    " \n",
    "   for i in range(len(start)):\n",
    "      table[start[i]] += add[i]\n",
    "      table[end[i]+1] -= add[i]\n",
    " \n",
    "   for i in range(1, x):\n",
    "      table[i] += table[i-1]\n",
    " \n",
    "   return table\n",
    " \n",
    " \n",
    "N, M = map(int, input().split())\n",
    "LR = [map(int, input().split()) for _ in range(M)]\n",
    "L, R = [list(_) for _ in zip(*LR)]\n",
    " \n",
    "print(imos_1(L, R, [1]*M).count(M))"
   ]
  },
  {
   "cell_type": "code",
   "execution_count": null,
   "metadata": {},
   "outputs": [],
   "source": []
  }
 ],
 "metadata": {
  "language_info": {
   "codemirror_mode": {
    "name": "ipython",
    "version": 3
   },
   "file_extension": ".py",
   "mimetype": "text/x-python",
   "name": "python",
   "nbconvert_exporter": "python",
   "pygments_lexer": "ipython3",
   "version": "3.8.6-final"
  },
  "orig_nbformat": 2,
  "kernelspec": {
   "name": "python3",
   "display_name": "Python 3.8.6 64-bit",
   "metadata": {
    "interpreter": {
     "hash": "33b9155f6fe620f02ad32cae37470d193ecdf9cc5f13dee15b7e34c18c21ac6c"
    }
   }
  }
 },
 "nbformat": 4,
 "nbformat_minor": 2
}