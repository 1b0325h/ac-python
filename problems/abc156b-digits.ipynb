{
 "cells": [
  {
   "cell_type": "markdown",
   "metadata": {},
   "source": [
    "# [ABC156B - Digits](https://atcoder.jp/contests/abc156/tasks/abc156_b)\n",
    "\n",
    "## Problem Statement\n",
    "\n",
    "Given is an integer $N$. Find the number of digits that $N$ has in base $K$.\n",
    "\n",
    "## Constraints\n",
    "\n",
    "- All values in input are integers.\n",
    "- $1 \\leq N \\leq 10^9$\n",
    "- $2 \\leq K \\leq 10$\n",
    "\n",
    "## Output\n",
    "\n",
    "Print the number of digits that $N$ has in base $K$.\n",
    "\n",
    "---\n",
    "\n",
    "## Examples\n",
    "\n",
    "```\n",
    "[Sample1]\n",
    "    Input: 11 2\n",
    "   Output: 4\n",
    "\n",
    "[Sample2]\n",
    "    Input: 1010101 10\n",
    "   Output: 7\n",
    "\n",
    "[Sample3]\n",
    "    Input: 314159265 3\n",
    "   Output: 18\n",
    "```\n",
    "\n",
    "---\n",
    "\n",
    "## [Solution](https://atcoder.jp/contests/abc156/submissions/24222433)"
   ]
  },
  {
   "cell_type": "code",
   "execution_count": 2,
   "metadata": {
    "tags": []
   },
   "outputs": [
    {
     "output_type": "stream",
     "name": "stdout",
     "text": "4\n"
    }
   ],
   "source": [
    "def to_base_n(n: int, base: int) -> str:\n",
    "   digit = 0\n",
    "   for i in range(10**9):\n",
    "      if n < base**i:\n",
    "         digit += i\n",
    "         break\n",
    "   s = \"\"\n",
    "   for i in range(1, digit+1):\n",
    "      s += str(x := n // (base**(digit-i)))\n",
    "      n -= x * (base**(digit-i))\n",
    "   return s\n",
    "\n",
    "\n",
    "N, K = map(int, input().split())\n",
    "\n",
    "print(len(to_base_n(N, K)))"
   ]
  },
  {
   "cell_type": "code",
   "execution_count": null,
   "metadata": {},
   "outputs": [],
   "source": []
  }
 ],
 "metadata": {
  "language_info": {
   "codemirror_mode": {
    "name": "ipython",
    "version": 3
   },
   "file_extension": ".py",
   "mimetype": "text/x-python",
   "name": "python",
   "nbconvert_exporter": "python",
   "pygments_lexer": "ipython3",
   "version": "3.8.2-final"
  },
  "orig_nbformat": 2,
  "kernelspec": {
   "name": "python38264bitaf2d0123063b462da592b33d3d13a1e8",
   "display_name": "Python 3.8.2 64-bit"
  }
 },
 "nbformat": 4,
 "nbformat_minor": 2
}