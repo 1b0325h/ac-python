{
 "cells": [
  {
   "cell_type": "markdown",
   "metadata": {},
   "source": [
    "# [ABC162C - Sum of gcd of Tuples(Easy)](https://atcoder.jp/contests/abc162/tasks/abc162_c)\n",
    "\n",
    "## Problem Statement\n",
    "\n",
    "Find $\\sum_{a=1}^{K} \\sum_{b=1}^{K} \\sum_{c=1}^{K} gcd(a, b, c)$.  \n",
    "  \n",
    "  Here $gcd(a, b, c)$ denotes the greatest common divisor of $a, b$ and $c$.\n",
    "\n",
    "## Constraints\n",
    "\n",
    "- $1 \\leq K \\leq 200$\n",
    "- $K$ is an integer.\n",
    "\n",
    "## Output\n",
    "\n",
    "Print the value of $\\sum_{a=1}^{K} \\sum_{b=1}^{K} \\sum_{c=1}^{K} gcd(a, b, c)$.\n",
    "\n",
    "---\n",
    "\n",
    "## Examples\n",
    "\n",
    "```\n",
    "[Sample1]\n",
    "    Input: 2\n",
    "   Output: 9\n",
    "\n",
    "[Sample2]\n",
    "    Input: 200\n",
    "   Output: 10813692\n",
    "```\n",
    "\n",
    "---\n",
    "\n",
    "## [Solution](https://atcoder.jp/contests/abc162/submissions/23146651)"
   ]
  },
  {
   "cell_type": "code",
   "execution_count": 1,
   "metadata": {
    "tags": []
   },
   "outputs": [
    {
     "output_type": "stream",
     "name": "stdout",
     "text": [
      "10813692\n"
     ]
    }
   ],
   "source": [
    "from functools import reduce\n",
    "from itertools import product\n",
    "\n",
    "\n",
    "def gcd(x, y):\n",
    "   if not y:\n",
    "      return x\n",
    "   while y:\n",
    "      x, y = y, x % y\n",
    "   return x\n",
    "\n",
    "\n",
    "K = int(input())\n",
    "\n",
    "sum_ = 0\n",
    "for i in product(range(1, K+1), repeat=3):\n",
    "   sum_ += reduce(gcd, i)\n",
    "\n",
    "print(sum_)"
   ]
  },
  {
   "cell_type": "code",
   "execution_count": null,
   "metadata": {},
   "outputs": [],
   "source": []
  }
 ],
 "metadata": {
  "language_info": {
   "codemirror_mode": {
    "name": "ipython",
    "version": 3
   },
   "file_extension": ".py",
   "mimetype": "text/x-python",
   "name": "python",
   "nbconvert_exporter": "python",
   "pygments_lexer": "ipython3",
   "version": "3.8.6-final"
  },
  "orig_nbformat": 2,
  "kernelspec": {
   "name": "python3",
   "display_name": "Python 3.8.6 64-bit",
   "metadata": {
    "interpreter": {
     "hash": "33b9155f6fe620f02ad32cae37470d193ecdf9cc5f13dee15b7e34c18c21ac6c"
    }
   }
  }
 },
 "nbformat": 4,
 "nbformat_minor": 2
}