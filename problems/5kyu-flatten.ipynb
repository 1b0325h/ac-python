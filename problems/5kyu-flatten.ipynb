{
 "cells": [
  {
   "cell_type": "markdown",
   "metadata": {},
   "source": [
    "# [5kyu - flatten()](https://www.codewars.com/kata/513fa1d75e4297ba38000003)\n",
    "\n",
    "For this exercise you will create a global flatten method. The method takes in any number of arguments and flattens them into a single array. If any of the arguments passed in are an array then the individual objects within the array will be flattened so that they exist at the same level as the other arguments. Any nested arrays, no matter how deep, should be flattened into the single array result.\n",
    "\n",
    "---\n",
    "\n",
    "## Examples\n",
    "\n",
    "```\n",
    "flatten(1,2,3) -> [1,2,3]\n",
    "flatten([1,2],[3,4,5],[6,[7],[[8]]]) -> [1,2,3,4,5,6,7,8]\n",
    "flatten(1,2,['9',[],[]],None) -> [1,2,'9',None]\n",
    "flatten(['hello',2,['text',[4,5]]],[[]],'[list]') -> ['hello',2,'text',4,5,'[list]']\n",
    "```\n",
    "\n",
    "---\n",
    "\n",
    "## [Solution](https://www.codewars.com/kata/reviews/5da607a45397e60001e90ad8/groups/60b498467d063e00017b3a7e)"
   ]
  },
  {
   "cell_type": "code",
   "execution_count": 1,
   "metadata": {
    "tags": []
   },
   "outputs": [
    {
     "output_type": "execute_result",
     "data": {
      "text/plain": "[1, 2, 3, 4, 5, 6, 7, 8]"
     },
     "metadata": {},
     "execution_count": 1
    }
   ],
   "source": [
    "def flatten_(x):\n",
    "   for i in x:\n",
    "      if isinstance(i, list):\n",
    "         yield from flatten_(i)\n",
    "      else:\n",
    "         yield i\n",
    "\n",
    "\n",
    "def flatten(*args):\n",
    "   return list(flatten_(args))\n",
    "\n",
    "\n",
    "flatten([1,2],[3,4,5],[6,[7],[[8]]])"
   ]
  },
  {
   "cell_type": "code",
   "execution_count": null,
   "metadata": {},
   "outputs": [],
   "source": []
  }
 ],
 "metadata": {
  "language_info": {
   "codemirror_mode": {
    "name": "ipython",
    "version": 3
   },
   "file_extension": ".py",
   "mimetype": "text/x-python",
   "name": "python",
   "nbconvert_exporter": "python",
   "pygments_lexer": "ipython3",
   "version": "3.8.2-final"
  },
  "orig_nbformat": 2,
  "kernelspec": {
   "name": "python38264bitaf2d0123063b462da592b33d3d13a1e8",
   "display_name": "Python 3.8.2 64-bit"
  }
 },
 "nbformat": 4,
 "nbformat_minor": 2
}